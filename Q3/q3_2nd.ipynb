{
 "cells": [
  {
   "cell_type": "code",
   "execution_count": 1,
   "metadata": {},
   "outputs": [],
   "source": [
    "import os\n",
    "import cv2\n",
    "import gc\n",
    "import numpy as np\n",
    "import matplotlib.pyplot as plt\n",
    "import pandas as pd\n",
    "import albumentations as A\n",
    "from sklearn.model_selection import train_test_split\n",
    "from sklearn.metrics import classification_report"
   ]
  },
  {
   "cell_type": "markdown",
   "metadata": {},
   "source": [
    "# Leitura dos dados e divisão treino/teste"
   ]
  },
  {
   "cell_type": "markdown",
   "metadata": {},
   "source": [
    "Antes de começarmos, vale ressaltar que o link fornecido no arquivo PDF prova não contém os rótulos da base. Eles podem ser encontrados [aqui](https://github.com/BotechEngineering/StanfordCarsDatasetCSV/tree/main).\n",
    "\n",
    "A base Standof Cars já possui seus dados divididos  em conjuntos de treinamento e teste. A divisão é, praticamente de 50%-50%. Os dados de teste não estão rotulados por classe. Então, usaremos apenas os dados de treinamento em nossos experimentos."
   ]
  },
  {
   "cell_type": "code",
   "execution_count": 2,
   "metadata": {},
   "outputs": [
    {
     "data": {
      "text/html": [
       "<div>\n",
       "<style scoped>\n",
       "    .dataframe tbody tr th:only-of-type {\n",
       "        vertical-align: middle;\n",
       "    }\n",
       "\n",
       "    .dataframe tbody tr th {\n",
       "        vertical-align: top;\n",
       "    }\n",
       "\n",
       "    .dataframe thead th {\n",
       "        text-align: right;\n",
       "    }\n",
       "</style>\n",
       "<table border=\"1\" class=\"dataframe\">\n",
       "  <thead>\n",
       "    <tr style=\"text-align: right;\">\n",
       "      <th></th>\n",
       "      <th>x1</th>\n",
       "      <th>y1</th>\n",
       "      <th>x2</th>\n",
       "      <th>y2</th>\n",
       "      <th>Class</th>\n",
       "      <th>image</th>\n",
       "    </tr>\n",
       "  </thead>\n",
       "  <tbody>\n",
       "    <tr>\n",
       "      <th>0</th>\n",
       "      <td>39</td>\n",
       "      <td>116</td>\n",
       "      <td>569</td>\n",
       "      <td>375</td>\n",
       "      <td>14</td>\n",
       "      <td>00001.jpg</td>\n",
       "    </tr>\n",
       "    <tr>\n",
       "      <th>1</th>\n",
       "      <td>36</td>\n",
       "      <td>116</td>\n",
       "      <td>868</td>\n",
       "      <td>587</td>\n",
       "      <td>3</td>\n",
       "      <td>00002.jpg</td>\n",
       "    </tr>\n",
       "    <tr>\n",
       "      <th>2</th>\n",
       "      <td>85</td>\n",
       "      <td>109</td>\n",
       "      <td>601</td>\n",
       "      <td>381</td>\n",
       "      <td>91</td>\n",
       "      <td>00003.jpg</td>\n",
       "    </tr>\n",
       "    <tr>\n",
       "      <th>3</th>\n",
       "      <td>621</td>\n",
       "      <td>393</td>\n",
       "      <td>1484</td>\n",
       "      <td>1096</td>\n",
       "      <td>134</td>\n",
       "      <td>00004.jpg</td>\n",
       "    </tr>\n",
       "    <tr>\n",
       "      <th>4</th>\n",
       "      <td>14</td>\n",
       "      <td>36</td>\n",
       "      <td>133</td>\n",
       "      <td>99</td>\n",
       "      <td>106</td>\n",
       "      <td>00005.jpg</td>\n",
       "    </tr>\n",
       "    <tr>\n",
       "      <th>...</th>\n",
       "      <td>...</td>\n",
       "      <td>...</td>\n",
       "      <td>...</td>\n",
       "      <td>...</td>\n",
       "      <td>...</td>\n",
       "      <td>...</td>\n",
       "    </tr>\n",
       "    <tr>\n",
       "      <th>8139</th>\n",
       "      <td>3</td>\n",
       "      <td>44</td>\n",
       "      <td>423</td>\n",
       "      <td>336</td>\n",
       "      <td>78</td>\n",
       "      <td>08140.jpg</td>\n",
       "    </tr>\n",
       "    <tr>\n",
       "      <th>8140</th>\n",
       "      <td>138</td>\n",
       "      <td>150</td>\n",
       "      <td>706</td>\n",
       "      <td>523</td>\n",
       "      <td>196</td>\n",
       "      <td>08141.jpg</td>\n",
       "    </tr>\n",
       "    <tr>\n",
       "      <th>8141</th>\n",
       "      <td>26</td>\n",
       "      <td>246</td>\n",
       "      <td>660</td>\n",
       "      <td>449</td>\n",
       "      <td>163</td>\n",
       "      <td>08142.jpg</td>\n",
       "    </tr>\n",
       "    <tr>\n",
       "      <th>8142</th>\n",
       "      <td>78</td>\n",
       "      <td>526</td>\n",
       "      <td>1489</td>\n",
       "      <td>908</td>\n",
       "      <td>112</td>\n",
       "      <td>08143.jpg</td>\n",
       "    </tr>\n",
       "    <tr>\n",
       "      <th>8143</th>\n",
       "      <td>20</td>\n",
       "      <td>240</td>\n",
       "      <td>862</td>\n",
       "      <td>677</td>\n",
       "      <td>17</td>\n",
       "      <td>08144.jpg</td>\n",
       "    </tr>\n",
       "  </tbody>\n",
       "</table>\n",
       "<p>8144 rows × 6 columns</p>\n",
       "</div>"
      ],
      "text/plain": [
       "       x1   y1    x2    y2  Class      image\n",
       "0      39  116   569   375     14  00001.jpg\n",
       "1      36  116   868   587      3  00002.jpg\n",
       "2      85  109   601   381     91  00003.jpg\n",
       "3     621  393  1484  1096    134  00004.jpg\n",
       "4      14   36   133    99    106  00005.jpg\n",
       "...   ...  ...   ...   ...    ...        ...\n",
       "8139    3   44   423   336     78  08140.jpg\n",
       "8140  138  150   706   523    196  08141.jpg\n",
       "8141   26  246   660   449    163  08142.jpg\n",
       "8142   78  526  1489   908    112  08143.jpg\n",
       "8143   20  240   862   677     17  08144.jpg\n",
       "\n",
       "[8144 rows x 6 columns]"
      ]
     },
     "execution_count": 2,
     "metadata": {},
     "output_type": "execute_result"
    }
   ],
   "source": [
    "train_labels = pd.read_csv(\"data/cardatasettrain.csv\")\n",
    "train_labels.drop(columns=[train_labels.columns[0]], inplace=True)\n",
    "train_labels"
   ]
  },
  {
   "cell_type": "markdown",
   "metadata": {},
   "source": [
    "Definindo as classes importantes"
   ]
  },
  {
   "cell_type": "code",
   "execution_count": 3,
   "metadata": {},
   "outputs": [],
   "source": [
    "important_classes = [3,4,5]"
   ]
  },
  {
   "cell_type": "markdown",
   "metadata": {},
   "source": [
    "Definindo o diretório raiz"
   ]
  },
  {
   "cell_type": "code",
   "execution_count": 4,
   "metadata": {},
   "outputs": [],
   "source": [
    "train_image_root = 'data/cars_train/cars_train/'"
   ]
  },
  {
   "cell_type": "markdown",
   "metadata": {},
   "source": [
    "Aqui, vamos adicionar as imagens ao conjunto de treinamento. "
   ]
  },
  {
   "cell_type": "code",
   "execution_count": 5,
   "metadata": {},
   "outputs": [],
   "source": [
    "train_data = [] #lista de imagens\n",
    "classes1 = [] #lista de classes das imagens de train_data\n"
   ]
  },
  {
   "cell_type": "code",
   "execution_count": 6,
   "metadata": {},
   "outputs": [],
   "source": [
    "for index, row in train_labels.iterrows():\n",
    "    img = cv2.imread(f\"{train_image_root}{row['image']}\", cv2.COLOR_BGR2RGB)\n",
    "    train_data.append(img)\n",
    "    classes1.append(row['Class'])"
   ]
  },
  {
   "cell_type": "markdown",
   "metadata": {},
   "source": [
    "Divisão treino e teste, conforme especificado na atividade. "
   ]
  },
  {
   "cell_type": "code",
   "execution_count": 7,
   "metadata": {},
   "outputs": [],
   "source": [
    "x_train, x_test, y_train, y_test = train_test_split(train_data, classes1, test_size=0.3, stratify=classes1, random_state=1)"
   ]
  },
  {
   "cell_type": "code",
   "execution_count": 8,
   "metadata": {},
   "outputs": [
    {
     "name": "stdout",
     "output_type": "stream",
     "text": [
      "Tamanho do conjunto de treinamento 5700\n",
      "Tamanho do conjunto de teste 2444\n"
     ]
    }
   ],
   "source": [
    "print(\"Tamanho do conjunto de treinamento\", len(x_train))\n",
    "print(\"Tamanho do conjunto de teste\", len(x_test))"
   ]
  },
  {
   "cell_type": "markdown",
   "metadata": {},
   "source": [
    "As classes que não fazem parte da lista `important_classes` receberão o rótulo de 'indefinida'."
   ]
  },
  {
   "cell_type": "code",
   "execution_count": 9,
   "metadata": {},
   "outputs": [],
   "source": [
    "for i in range(len(y_train)):\n",
    "    if y_train[i] not in important_classes:\n",
    "        y_train[i] = 'indefinida'\n",
    "\n",
    "for i in range(len(y_test)):\n",
    "    if y_test[i] not in important_classes:\n",
    "        y_test[i] = 'indefinida'"
   ]
  },
  {
   "cell_type": "code",
   "execution_count": 10,
   "metadata": {},
   "outputs": [
    {
     "data": {
      "image/png": "[encoded data removed]",
      "text/plain": [
       "<Figure size 1000x600 with 1 Axes>"
      ]
     },
     "metadata": {},
     "output_type": "display_data"
    }
   ],
   "source": [
    "labels, counts = np.unique(np.array(y_train), return_counts=True)\n",
    "labels = [str(i) for i in labels]\n",
    "\n",
    "plt.figure(figsize=(10, 6))\n",
    "plt.bar(labels, counts)\n",
    "plt.xlabel('Labels')\n",
    "plt.ylabel('Frequência')\n",
    "plt.title('Distribuição por classe')\n",
    "plt.show()"
   ]
  },
  {
   "cell_type": "markdown",
   "metadata": {},
   "source": [
    "Observe na imagem acima, que há um enorme desbalanceamento entre as classes. Isso é natural, já que rotulamos 193 classes como 'indefinida'. Precisaremos de um processo robusto para lidarmos com esse conjunto de dados."
   ]
  },
  {
   "cell_type": "code",
   "execution_count": 11,
   "metadata": {},
   "outputs": [
    {
     "data": {
      "text/plain": [
       "3036"
      ]
     },
     "execution_count": 11,
     "metadata": {},
     "output_type": "execute_result"
    }
   ],
   "source": [
    "# Removemdo variáveis desnecessárias\n",
    "del train_data, classes1\n",
    "gc.collect()"
   ]
  },
  {
   "cell_type": "markdown",
   "metadata": {},
   "source": [
    "# Preprocessamento"
   ]
  },
  {
   "cell_type": "markdown",
   "metadata": {},
   "source": [
    "Aqui, vamos definir um processo de data augmentation. Esse processo vai nos ajudar a aumentar a quantidade de amostras das classes não majoritárias, reduzindo o desbalanceamento.\n",
    "\n",
    "As imagens que vão sofrer aumento vão passar por um processo seguindo o pipeline:\n",
    "* Rotação horizontal;\n",
    "* Ajuste do brilho e contraste;\n",
    "* Redimensionamento aleatório de escala entre 0% e 5%;\n",
    "* Recorte aleatório de uma região da imagem;\n",
    "* Redimensionamento para (224, 224), padrão dos modelos do ImageNet;\n",
    "* Normalização.\n",
    "\n",
    "Optamos por manter as imagens originais no conjunto de treinamento (não apenas as versões aumentadas). Essas imagens passarão apenas por um processo de redimensionamento e normalização (`basic_process`)."
   ]
  },
  {
   "cell_type": "code",
   "execution_count": 12,
   "metadata": {},
   "outputs": [],
   "source": [
    "def basic_process(img):\n",
    "    # Média e desvio padrão do ImageNet (usaremos para normalização)\n",
    "    imagenet_mean = [0.485, 0.456, 0.406]\n",
    "    imagenet_std = [0.229, 0.224, 0.225]\n",
    "\n",
    "    # Vamos garantir que todas as imagens tenham 3 canis\n",
    "    if len(img.shape) == 2:  # grayscale para RGB\n",
    "        img_rgb = cv2.cvtColor(img, cv2.COLOR_GRAY2RGB)\n",
    "    elif img.shape[2] == 1:  # único canal para RGB\n",
    "        img_rgb = cv2.cvtColor(img, cv2.COLOR_GRAY2RGB)\n",
    "    else:\n",
    "        img_rgb = img  # Caso a imagem já seja RGB\n",
    "\n",
    "    # Redimensionar a imgem original para 224x224 (padrão do ImageNet)\n",
    "    img_rgb = cv2.resize(img_rgb, (224, 224))\n",
    "\n",
    "    # Normalizar as imagens originais para o formato ImageNet\n",
    "    img_rgb = img_rgb / 255.0  # Scale to [0, 1] range\n",
    "    img_rgb = (img_rgb - imagenet_mean) / imagenet_std\n",
    "\n",
    "    return img_rgb"
   ]
  },
  {
   "cell_type": "code",
   "execution_count": 13,
   "metadata": {},
   "outputs": [],
   "source": [
    "def data_augmentation(train, classes, num_augmented=2):\n",
    "    # Média e desvio padrão do ImageNet (usaremos para normalização)\n",
    "    imagenet_mean = [0.485, 0.456, 0.406]\n",
    "    imagenet_std = [0.229, 0.224, 0.225]\n",
    "\n",
    "    # Definimos a pipeline de preprocessamento e aumento de dados\n",
    "    transform = A.Compose([\n",
    "        # Aplica uma rotação horizontal aleatória com 50% de chance\n",
    "        A.HorizontalFlip(p=0.5),  \n",
    "        # Ajusta o brilho e o contraste aleatoriamente, com limites de 10% e uma chance de 50%\n",
    "        A.RandomBrightnessContrast(brightness_limit=0.1, contrast_limit=0.1, p=0.5),  \n",
    "        # Aplica um redimensionamento aleatório de escala entre 0% e 5%, com chance de 50%\n",
    "        A.RandomScale(scale_limit=(0, 0.05), p=0.5),\n",
    "        # Recorta aleatoriamente uma região da imagem e redimensiona para 224x224, mantendo a escala entre 80% e 100%, com 50% de chance\n",
    "        A.RandomResizedCrop(height=224, width=224, scale=(0.8, 1.0), p=0.5),\n",
    "        # Aplica distorção óptica na imagem com limites de distorção e deslocamento de até 20%, com 50% de chance\n",
    "        A.OpticalDistortion(distort_limit=0.2, shift_limit=0.2, p=0.5),\n",
    "        # Garante que todas as imagens serão redimensionadas para 224x224\n",
    "        A.Resize(224, 224),  \n",
    "        # Normaliza as imagens usando a média e o desvio padrão do conjunto de dados ImageNet\n",
    "        A.Normalize(mean=imagenet_mean, std=imagenet_std, always_apply=True)  \n",
    "    ])\n",
    "\n",
    "\n",
    "    # Nestas variáveis armazenaremos as imagens e as classes, após o aumento de dados\n",
    "    augmented_images = []\n",
    "    augmented_classes = []\n",
    "\n",
    "    for img, cls in zip(train, classes):\n",
    "        # Vamos garantir que todas as imagens tenham 3 canis\n",
    "        if len(img.shape) == 2:  # grayscale para RGB\n",
    "            img_rgb = cv2.cvtColor(img, cv2.COLOR_GRAY2RGB)\n",
    "        elif img.shape[2] == 1:  # único canal para RGB\n",
    "            img_rgb = cv2.cvtColor(img, cv2.COLOR_GRAY2RGB)\n",
    "        else:\n",
    "            img_rgb = img  # Caso a imagem já seja RGB\n",
    "\n",
    "        \n",
    "        # Redimensionar a imgem original para 224x224 (padrão do ImageNet)\n",
    "        original_img = cv2.resize(img_rgb, (224, 224))\n",
    "\n",
    "        # Normalizar as imagens originais para o formato ImageNet\n",
    "        original_img = original_img / 255.0  # Scale to [0, 1] range\n",
    "        original_img = (original_img - imagenet_mean) / imagenet_std\n",
    "\n",
    "        # Adicionamos a imagem e as classes\n",
    "        augmented_images.append(original_img)\n",
    "        augmented_classes.append(cls)\n",
    "        \n",
    "        # Gerar as versões das imagens com base na pipeline\n",
    "        for _ in range(num_augmented):\n",
    "            augmented = transform(image=img_rgb)\n",
    "            augmented_images.append(augmented['image'])\n",
    "            augmented_classes.append(cls)  # Mantemos a classe correspondente\n",
    "\n",
    "    # Convertemos as listas para numpy arrays para consistência\n",
    "    augmented_images = np.array(augmented_images)\n",
    "    augmented_classes = np.array(augmented_classes)\n",
    "\n",
    "    return augmented_images, augmented_classes"
   ]
  },
  {
   "cell_type": "markdown",
   "metadata": {},
   "source": [
    "Aplicamos o processo de aumento das imgens. Usamos um fator 3, o que significa que cada imagem original terá, além de si própria, mais 3 versões aumentadas adicionadas ao conjunto de treinamento.\n",
    "\n",
    "O processo de aumento de dados não será aplicado à classe majoritária ('indefinida'). Essas imagens passarão apenas por um processo de redimensionamento e normalização (`basic_rpocess`)."
   ]
  },
  {
   "cell_type": "code",
   "execution_count": 14,
   "metadata": {},
   "outputs": [],
   "source": [
    "# Filtra as imagens e rótulos que não pertencem à classe \"indefinida\"\n",
    "x_train_definida = [x for x, y in zip(x_train, y_train) if y != 'indefinida']\n",
    "y_train_definida = [y for y in y_train if y != 'indefinida']\n",
    "\n",
    "# Filtra as imagens e rótulos da classe \"indefinida\"\n",
    "x_train_indefinida = [x for x, y in zip(x_train, y_train) if y == 'indefinida']\n",
    "y_train_indefinida = [y for y in y_train if y == 'indefinida']\n",
    "x_train_indefinida = [basic_process(val) for val in x_train_indefinida] # Aplica redimensionamento e normalização\n",
    "\n",
    "# Aplica o processo de aumento de dados apenas nas imagens que não são da classe \"indefinida\"\n",
    "x_train_augmented, y_train_augmented = data_augmentation(x_train_definida, y_train_definida, num_augmented=3)\n",
    "\n",
    "# Recombina as imagens e rótulos originais da classe \"indefinida\" com os dados aumentados\n",
    "x_train_final = list(x_train_augmented) + x_train_indefinida\n",
    "y_train_final = list(y_train_augmented) + y_train_indefinida\n",
    "\n",
    "x_train_final = np.array(x_train_final)\n",
    "y_train_final = np.array(y_train_final)"
   ]
  },
  {
   "cell_type": "code",
   "execution_count": 15,
   "metadata": {},
   "outputs": [
    {
     "data": {
      "text/plain": [
       "107"
      ]
     },
     "execution_count": 15,
     "metadata": {},
     "output_type": "execute_result"
    }
   ],
   "source": [
    "# Removendo variáveis desnecessárias\n",
    "del x_train_definida, y_train_definida, x_train_indefinida, y_train_indefinida\n",
    "gc.collect()"
   ]
  },
  {
   "cell_type": "code",
   "execution_count": 16,
   "metadata": {},
   "outputs": [
    {
     "name": "stdout",
     "output_type": "stream",
     "text": [
      "Tamanho do conjunto de treinamento 5964\n",
      "Tamanho do conjunto de teste 2444\n"
     ]
    }
   ],
   "source": [
    "print(\"Tamanho do conjunto de treinamento\", len(x_train_final))\n",
    "print(\"Tamanho do conjunto de teste\", len(x_test))"
   ]
  },
  {
   "cell_type": "code",
   "execution_count": 17,
   "metadata": {},
   "outputs": [
    {
     "data": {
      "image/png": "[encoded data removed]",
      "text/plain": [
       "<Figure size 1000x600 with 1 Axes>"
      ]
     },
     "metadata": {},
     "output_type": "display_data"
    }
   ],
   "source": [
    "labels, counts = np.unique(np.array(y_train_final), return_counts=True)\n",
    "labels = [str(i) for i in labels]\n",
    "\n",
    "plt.figure(figsize=(10, 6))\n",
    "plt.bar(labels, counts)\n",
    "plt.xlabel('Labels')\n",
    "plt.ylabel('Frequência')\n",
    "plt.title('Distribuição por classe')\n",
    "plt.show()"
   ]
  },
  {
   "cell_type": "code",
   "execution_count": 18,
   "metadata": {},
   "outputs": [
    {
     "name": "stdout",
     "output_type": "stream",
     "text": [
      "[ 120  116  116 5612]\n"
     ]
    }
   ],
   "source": [
    "print(counts)"
   ]
  },
  {
   "cell_type": "markdown",
   "metadata": {},
   "source": [
    "Perceba que, mesmo após o aumento, o desbalanceamento de dados ainda é muito grande"
   ]
  },
  {
   "cell_type": "markdown",
   "metadata": {},
   "source": [
    "# Treinamento do modelo"
   ]
  },
  {
   "cell_type": "code",
   "execution_count": 19,
   "metadata": {},
   "outputs": [
    {
     "name": "stderr",
     "output_type": "stream",
     "text": [
      "2024-11-04 23:30:27.358768: E external/local_xla/xla/stream_executor/cuda/cuda_fft.cc:485] Unable to register cuFFT factory: Attempting to register factory for plugin cuFFT when one has already been registered\n",
      "2024-11-04 23:30:27.479101: E external/local_xla/xla/stream_executor/cuda/cuda_dnn.cc:8454] Unable to register cuDNN factory: Attempting to register factory for plugin cuDNN when one has already been registered\n",
      "2024-11-04 23:30:27.508808: E external/local_xla/xla/stream_executor/cuda/cuda_blas.cc:1452] Unable to register cuBLAS factory: Attempting to register factory for plugin cuBLAS when one has already been registered\n",
      "2024-11-04 23:30:27.730725: I tensorflow/core/platform/cpu_feature_guard.cc:210] This TensorFlow binary is optimized to use available CPU instructions in performance-critical operations.\n",
      "To enable the following instructions: AVX2 FMA, in other operations, rebuild TensorFlow with the appropriate compiler flags.\n",
      "2024-11-04 23:30:28.883641: W tensorflow/compiler/tf2tensorrt/utils/py_utils.cc:38] TF-TRT Warning: Could not find TensorRT\n"
     ]
    }
   ],
   "source": [
    "import tensorflow as tf\n",
    "import tensorflow.keras as keras\n",
    "from tensorflow.keras import layers, models\n",
    "from tensorflow.keras.utils import register_keras_serializable\n",
    "from tensorflow.keras.callbacks import EarlyStopping, ModelCheckpoint\n",
    "from sklearn import metrics\n",
    "from tensorflow.keras import backend as K\n",
    "from sklearn.metrics import confusion_matrix"
   ]
  },
  {
   "cell_type": "markdown",
   "metadata": {},
   "source": [
    "Usamos como função de custo a função focal loss, que foi desenvolvida para lidar com problemas de desbalanceamento de classes, pricipalmente em tarefas de detecção de objetos. \n",
    "\n",
    "Eu particluarmente não a conhecia, mas olhando o github de pessoas que trabalharam nesta mesma base, vi que ela teve melhores resultados que a função de entropia cruzada.\n",
    "\n",
    "Se quiserem saber mais sobre esta função, o artigo original é [Focal Loss for Dense Object Detection](https://openaccess.thecvf.com/content_ICCV_2017/papers/Lin_Focal_Loss_for_ICCV_2017_paper)."
   ]
  },
  {
   "cell_type": "code",
   "execution_count": 20,
   "metadata": {},
   "outputs": [],
   "source": [
    "@register_keras_serializable()\n",
    "def focal_loss_fixed(y_true, y_pred, gamma=2.0, alpha=1.0):\n",
    "    epsilon = K.epsilon()\n",
    "    y_pred = K.clip(y_pred, epsilon, 1.0 - epsilon)\n",
    "    y_true = tf.cast(y_true, tf.float32)\n",
    "\n",
    "    alpha_t = y_true * alpha + (1 - y_true) * (1 - alpha)\n",
    "    p_t = y_true * y_pred + (1 - y_true) * (1 - y_pred)\n",
    "    fl = -alpha_t * K.pow(1.0 - p_t, gamma) * K.log(p_t)\n",
    "    return K.mean(fl)\n",
    "\n",
    "@register_keras_serializable()\n",
    "def focal_loss(gamma=2.0, alpha=1.0):\n",
    "    def loss(y_true, y_pred):\n",
    "        return focal_loss_fixed(y_true, y_pred, gamma=gamma, alpha=alpha)\n",
    "    return loss"
   ]
  },
  {
   "cell_type": "markdown",
   "metadata": {},
   "source": [
    "Como são muitos dados, não podemos processar todos de uma vez, além disso, eles são muito desbalanceados.\n",
    "Para lidar com isso, vamos usar as seguintes técnicas:\n",
    "* Data augmentation nas classes não majoritárias (já fizemos isso);\n",
    "* Usar a focal loss como função de perda;\n",
    "* Usar o One-sided Dynamic Undersampling (ODU).\n",
    "\n",
    "O ODU é um método iterativo, originalmente proposto para classificação binária, onde cada iteração consiste em:\n",
    "1. Usar o modelo para fazer predições em todo o conjunto de dados;\n",
    "2. Selecionar as N amostras da classe majoritária que o modelo mais teve dificuldade de classificar, onde N é o número de amostras da classe minoritária;\n",
    "3. Usar as N amostras selecionadas da classe majoritária e todas as amostras da classe minoritária para treinar o modelo;\n",
    "4. Repetimos o processo com o modelo retreinado\n",
    "\n",
    "O artigo original do ODU pode ser lido em [One-sided Dynamic Undersampling No-Propagation Neural Networks for imbalance problem](https://www.sciencedirect.com/science/article/pii/S0952197616300203).\n",
    "\n",
    "Aqui precisamos adaptar o modelo para uma abordagem multiclasse. N será, então, o número de amostras da maior classe não majoritária. Além disso, na primeira iteração, selecionaremos N amsotras da classe majoritária de forma aleatória, pois o modelo não pode escolher antes de ser treinado."
   ]
  },
  {
   "cell_type": "code",
   "execution_count": 1,
   "metadata": {},
   "outputs": [],
   "source": [
    "# Seleão de amostras da classe majoritária de forma aleatória\n",
    "def select_balanced_subset(x_train, y_train):\n",
    "    # Conta a quantidade de amostras de cada classe\n",
    "    unique_classes, class_counts = np.unique(y_train, return_counts=True)\n",
    "    \n",
    "    # Ordena as contagens de amostras por classe em ordem decrescente\n",
    "    sorted_counts = np.sort(class_counts)[::-1]\n",
    "    \n",
    "    # Define n_minor como o número de amostras da classe minoritária mais frequente\n",
    "    # (a segunda maior contagem de amostras)\n",
    "    n_minor = sorted_counts[1] if len(sorted_counts) > 1 else sorted_counts[0]\n",
    "    \n",
    "    # Identifica a classe majoritária\n",
    "    major_class = unique_classes[np.argmax(class_counts)]\n",
    "    \n",
    "    # Encontra os índices para a classe majoritária e as classes minoritárias\n",
    "    major_indexes = [i for i, label in enumerate(y_train) if label == major_class]\n",
    "    minor_indexes = [i for i, label in enumerate(y_train) if label != major_class]\n",
    "    \n",
    "    # Seleciona aleatoriamente n_minor amostras da classe majoritária\n",
    "    selected_major_indexes = np.random.choice(major_indexes, n_minor, replace=False)\n",
    "    \n",
    "    # Combina as amostras selecionadas da classe majoritária com todas as amostras das classes minoritárias\n",
    "    selected_indexes = np.concatenate([selected_major_indexes, minor_indexes])\n",
    "    \n",
    "    # Filtra x_train e y_train usando os índices selecionados\n",
    "    x_train_final = x_train[selected_indexes]\n",
    "    y_train_final = y_train[selected_indexes]\n",
    "    \n",
    "    return x_train_final, y_train_final"
   ]
  },
  {
   "cell_type": "code",
   "execution_count": 22,
   "metadata": {},
   "outputs": [],
   "source": [
    "def ODU_multiclass(model, x_tr, y_tr, batch_size=2):\n",
    "    # Divide x_tr em batches para evitar estouro de memória\n",
    "    y_pred = []\n",
    "    for i in range(0, len(x_tr), batch_size):\n",
    "        batch_x = x_tr[i:i + batch_size]\n",
    "        batch_pred = model.predict(batch_x, verbose=0)\n",
    "        y_pred.extend(batch_pred)  # Adiciona as previsões ao array principal\n",
    "    \n",
    "    y_pred = np.array(y_pred)  # Converte a lista de previsões para um array numpy\n",
    "\n",
    "    # Conta a quantidade de amostras de cada classe\n",
    "    unique_classes, class_counts = np.unique(y_tr, return_counts=True)\n",
    "    major_class = unique_classes[np.argmax(class_counts)]  # Classe majoritária\n",
    "    major_class_index = np.argmax(class_counts) # índice da classe majoritária\n",
    "    n_minor = np.max(class_counts)  # Tamanho da classe não majoritária mais frequente\n",
    "    \n",
    "    # Inicializa listas para índices da classe majoritária e minoritárias\n",
    "    major_indexes = []\n",
    "    minor_indexes = {class_label: [] for class_label in unique_classes if class_label != major_class}\n",
    "    major_class_pred = []\n",
    "    \n",
    "    # Agrupa índices das classes majoritária e minoritárias\n",
    "    for idx, prediction in enumerate(y_pred):\n",
    "        if y_tr[idx] == major_class:\n",
    "            major_class_pred.append(prediction[major_class_index])\n",
    "            major_indexes.append(idx)\n",
    "        else:\n",
    "            minor_indexes[y_tr[idx]].append(idx)\n",
    "\n",
    "    # Ordena os índices da classe majoritária de acordo com as probabilidades preditas\n",
    "    major_indexes = [x for _, x in sorted(zip(major_class_pred, major_indexes))]\n",
    "    \n",
    "    # Seleciona o mesmo número de amostras da classe majoritária que a classe minoritária mais frequente\n",
    "    selected_major_indexes = major_indexes[:n_minor]\n",
    "    \n",
    "    # Junta os índices das classes minoritárias e da amostra subamostrada da classe majoritária\n",
    "    selected_indexes = selected_major_indexes + [idx for indices in minor_indexes.values() for idx in indices]\n",
    "    \n",
    "    # Seleciona as amostras e rótulos correspondentes\n",
    "    new_x_tr = [x_tr[i] for i in selected_indexes]\n",
    "    new_y_tr = [y_tr[i] for i in selected_indexes]\n",
    "    \n",
    "    return np.array(new_x_tr), np.array(new_y_tr)"
   ]
  },
  {
   "cell_type": "markdown",
   "metadata": {},
   "source": [
    "Usamos um modelo EfficientNetB3 do keras, pretreinado no conjunto de dados ImageNet."
   ]
  },
  {
   "cell_type": "code",
   "execution_count": 23,
   "metadata": {},
   "outputs": [
    {
     "name": "stderr",
     "output_type": "stream",
     "text": [
      "WARNING: All log messages before absl::InitializeLog() is called are written to STDERR\n",
      "I0000 00:00:1730773829.896889   16306 cuda_executor.cc:1015] successful NUMA node read from SysFS had negative value (-1), but there must be at least one NUMA node, so returning NUMA node zero. See more at https://github.com/torvalds/linux/blob/v6.0/Documentation/ABI/testing/sysfs-bus-pci#L344-L355\n",
      "I0000 00:00:1730773830.342164   16306 cuda_executor.cc:1015] successful NUMA node read from SysFS had negative value (-1), but there must be at least one NUMA node, so returning NUMA node zero. See more at https://github.com/torvalds/linux/blob/v6.0/Documentation/ABI/testing/sysfs-bus-pci#L344-L355\n",
      "I0000 00:00:1730773830.342984   16306 cuda_executor.cc:1015] successful NUMA node read from SysFS had negative value (-1), but there must be at least one NUMA node, so returning NUMA node zero. See more at https://github.com/torvalds/linux/blob/v6.0/Documentation/ABI/testing/sysfs-bus-pci#L344-L355\n",
      "I0000 00:00:1730773830.345265   16306 cuda_executor.cc:1015] successful NUMA node read from SysFS had negative value (-1), but there must be at least one NUMA node, so returning NUMA node zero. See more at https://github.com/torvalds/linux/blob/v6.0/Documentation/ABI/testing/sysfs-bus-pci#L344-L355\n",
      "I0000 00:00:1730773830.345616   16306 cuda_executor.cc:1015] successful NUMA node read from SysFS had negative value (-1), but there must be at least one NUMA node, so returning NUMA node zero. See more at https://github.com/torvalds/linux/blob/v6.0/Documentation/ABI/testing/sysfs-bus-pci#L344-L355\n",
      "I0000 00:00:1730773830.345959   16306 cuda_executor.cc:1015] successful NUMA node read from SysFS had negative value (-1), but there must be at least one NUMA node, so returning NUMA node zero. See more at https://github.com/torvalds/linux/blob/v6.0/Documentation/ABI/testing/sysfs-bus-pci#L344-L355\n",
      "I0000 00:00:1730773830.455253   16306 cuda_executor.cc:1015] successful NUMA node read from SysFS had negative value (-1), but there must be at least one NUMA node, so returning NUMA node zero. See more at https://github.com/torvalds/linux/blob/v6.0/Documentation/ABI/testing/sysfs-bus-pci#L344-L355\n",
      "I0000 00:00:1730773830.455492   16306 cuda_executor.cc:1015] successful NUMA node read from SysFS had negative value (-1), but there must be at least one NUMA node, so returning NUMA node zero. See more at https://github.com/torvalds/linux/blob/v6.0/Documentation/ABI/testing/sysfs-bus-pci#L344-L355\n",
      "I0000 00:00:1730773830.455699   16306 cuda_executor.cc:1015] successful NUMA node read from SysFS had negative value (-1), but there must be at least one NUMA node, so returning NUMA node zero. See more at https://github.com/torvalds/linux/blob/v6.0/Documentation/ABI/testing/sysfs-bus-pci#L344-L355\n",
      "2024-11-04 23:30:30.456563: I tensorflow/core/common_runtime/gpu/gpu_device.cc:2021] Created device /job:localhost/replica:0/task:0/device:GPU:0 with 6320 MB memory:  -> device: 0, name: NVIDIA GeForce RTX 2070 SUPER, pci bus id: 0000:08:00.0, compute capability: 7.5\n"
     ]
    },
    {
     "ename": "",
     "evalue": "",
     "output_type": "error",
     "traceback": [
      "\u001b[1;31mThe Kernel crashed while executing code in the current cell or a previous cell. \n",
      "\u001b[1;31mPlease review the code in the cell(s) to identify a possible cause of the failure. \n",
      "\u001b[1;31mClick <a href='https://aka.ms/vscodeJupyterKernelCrash'>here</a> for more info. \n",
      "\u001b[1;31mView Jupyter <a href='command:jupyter.viewOutput'>log</a> for further details."
     ]
    }
   ],
   "source": [
    "n_classes = len(np.unique(y_train_final))\n",
    "\n",
    "base_model = keras.applications.EfficientNetB3(\n",
    "    include_top=False,\n",
    "    weights=\"imagenet\",\n",
    "    input_shape=(224, 224, 3),\n",
    ")\n",
    "\n",
    "x = keras.layers.GlobalAveragePooling2D()(base_model.output)\n",
    "output = keras.layers.Dense(n_classes, activation='softmax')(x)\n",
    "model = keras.models.Model(inputs=[base_model.input], outputs=[output])\n",
    "model.compile(optimizer='Adam', loss=focal_loss(), metrics=['accuracy'])"
   ]
  },
  {
   "cell_type": "markdown",
   "metadata": {},
   "source": [
    "Aqui é importante ressaltar que, como estamos lidando com um volume significativo de dados, precisamos usar um data loader, no caso a função `tf.data.Dataset.from_tensor_slices`. Ela divide o conjunto de treinamento em conjuntos menores (batches) e passa cada batch por vez ao modelo, evitando que ocupar excessivamente a memória RAM da GPU."
   ]
  },
  {
   "cell_type": "code",
   "execution_count": 24,
   "metadata": {},
   "outputs": [
    {
     "name": "stderr",
     "output_type": "stream",
     "text": [
      "2024-11-04 23:30:32.989712: W external/local_tsl/tsl/framework/cpu_allocator_impl.cc:83] Allocation of 568393728 exceeds 10% of free system memory.\n",
      "2024-11-04 23:30:33.113660: W external/local_tsl/tsl/framework/cpu_allocator_impl.cc:83] Allocation of 568393728 exceeds 10% of free system memory.\n",
      "2024-11-04 23:30:33.187508: W external/local_tsl/tsl/framework/cpu_allocator_impl.cc:83] Allocation of 568393728 exceeds 10% of free system memory.\n",
      "WARNING: All log messages before absl::InitializeLog() is called are written to STDERR\n",
      "I0000 00:00:1730773862.454000   16403 service.cc:146] XLA service 0x7dd1f8001f70 initialized for platform CUDA (this does not guarantee that XLA will be used). Devices:\n",
      "I0000 00:00:1730773862.454026   16403 service.cc:154]   StreamExecutor device (0): NVIDIA GeForce RTX 2070 SUPER, Compute Capability 7.5\n",
      "2024-11-04 23:31:03.800707: I tensorflow/compiler/mlir/tensorflow/utils/dump_mlir_util.cc:268] disabling MLIR crash reproducer, set env var `MLIR_CRASH_REPRODUCER_DIRECTORY` to enable.\n",
      "2024-11-04 23:31:08.070271: I external/local_xla/xla/stream_executor/cuda/cuda_dnn.cc:531] Loaded cuDNN version 8907\n",
      "E0000 00:00:1730773881.387068   16403 gpu_timer.cc:183] Delay kernel timed out: measured time has sub-optimal accuracy. There may be a missing warmup execution, please investigate in Nsight Systems.\n",
      "E0000 00:00:1730773881.506313   16403 gpu_timer.cc:183] Delay kernel timed out: measured time has sub-optimal accuracy. There may be a missing warmup execution, please investigate in Nsight Systems.\n",
      "E0000 00:00:1730773881.827493   16403 gpu_timer.cc:183] Delay kernel timed out: measured time has sub-optimal accuracy. There may be a missing warmup execution, please investigate in Nsight Systems.\n",
      "E0000 00:00:1730773881.951228   16403 gpu_timer.cc:183] Delay kernel timed out: measured time has sub-optimal accuracy. There may be a missing warmup execution, please investigate in Nsight Systems.\n"
     ]
    },
    {
     "name": "stdout",
     "output_type": "stream",
     "text": [
      "\u001b[1m 1/30\u001b[0m \u001b[37m━━━━━━━━━━━━━━━━━━━━\u001b[0m \u001b[1m41:02\u001b[0m 85s/step - accuracy: 0.2500 - loss: 0.1964"
     ]
    },
    {
     "name": "stderr",
     "output_type": "stream",
     "text": [
      "I0000 00:00:1730773917.932736   16403 device_compiler.h:188] Compiled cluster using XLA!  This line is logged at most once for the lifetime of the process.\n"
     ]
    },
    {
     "name": "stdout",
     "output_type": "stream",
     "text": [
      "\u001b[1m29/30\u001b[0m \u001b[32m━━━━━━━━━━━━━━━━━━━\u001b[0m\u001b[37m━\u001b[0m \u001b[1m0s\u001b[0m 95ms/step - accuracy: 0.6179 - loss: 0.1332"
     ]
    },
    {
     "name": "stderr",
     "output_type": "stream",
     "text": [
      "E0000 00:00:1730773934.403813   16406 gpu_timer.cc:183] Delay kernel timed out: measured time has sub-optimal accuracy. There may be a missing warmup execution, please investigate in Nsight Systems.\n",
      "E0000 00:00:1730773934.520953   16406 gpu_timer.cc:183] Delay kernel timed out: measured time has sub-optimal accuracy. There may be a missing warmup execution, please investigate in Nsight Systems.\n"
     ]
    },
    {
     "name": "stdout",
     "output_type": "stream",
     "text": [
      "\u001b[1m30/30\u001b[0m \u001b[32m━━━━━━━━━━━━━━━━━━━━\u001b[0m\u001b[37m\u001b[0m \u001b[1m135s\u001b[0m 2s/step - accuracy: 0.6262 - loss: 0.1307\n"
     ]
    }
   ],
   "source": [
    "for i in range(50):\n",
    "    if i == 0:\n",
    "        # No primeiro passo, amostras selecionadas aleatoriamente\n",
    "        x_train_balanced, y_train_balanced = select_balanced_subset(x_train_final, y_train_final)\n",
    "    else:\n",
    "        # Nos passos subsequentes, amostras selecionadas pelo método ODU_multiclass\n",
    "        x_train_balanced, y_train_balanced = ODU_multiclass(model, x_train_final, x_train_final, batch_size=5)\n",
    "\n",
    "    # Cria o dataset com balanceamento e aumento de desempenho\n",
    "    train_dataset = tf.data.Dataset.from_tensor_slices((x_train_balanced, pd.get_dummies(y_train_balanced)))\n",
    "    train_dataset = train_dataset.shuffle(buffer_size=1000)  # Embaralha o dataset\n",
    "    train_dataset = train_dataset.batch(16)                  # Aplica um batch\n",
    "    train_dataset = train_dataset.prefetch(buffer_size=tf.data.AUTOTUNE)  # Otimiza a performance\n",
    "\n",
    "    # Treina o modelo por 1 época usando o dataset balanceado\n",
    "    model.fit(train_dataset, epochs=1)\n",
    "\n",
    "#salvamos o modelo    \n",
    "model.save(\"trained_model.keras\")   "
   ]
  },
  {
   "cell_type": "code",
   "execution_count": null,
   "metadata": {},
   "outputs": [
    {
     "data": {
      "text/plain": [
       "18708"
      ]
     },
     "execution_count": 26,
     "metadata": {},
     "output_type": "execute_result"
    }
   ],
   "source": [
    "del x_train, x_train_augmented,\tx_train_final, y_train,\ty_train_augmented, y_train_final\t\n",
    "gc.collect()"
   ]
  },
  {
   "cell_type": "code",
   "execution_count": null,
   "metadata": {},
   "outputs": [],
   "source": [
    "# Esta linha existe caso o kernel pare. Dessa forma, não perdemos o modelo\n",
    "model = tf.keras.models.load_model(\"trained_model.keras\", custom_objects={'focal_loss_fixed': focal_loss_fixed, 'focal_loss': focal_loss})"
   ]
  },
  {
   "cell_type": "code",
   "execution_count": null,
   "metadata": {},
   "outputs": [],
   "source": [
    "x_test = [basic_process(x) for x in x_test]\n",
    "x_test = np.array(x_test)"
   ]
  },
  {
   "cell_type": "code",
   "execution_count": null,
   "metadata": {},
   "outputs": [],
   "source": [
    "y_pred = []\n",
    "for i in range(0, len(x_test), 10):\n",
    "    batch_x = x_test[i:i + 10]\n",
    "    batch_pred = model.predict(batch_x, verbose=0)\n",
    "    y_pred.extend(batch_pred)  # Adiciona as previsões ao array principal\n",
    "y_pred = np.array(y_pred)    \n",
    "\n",
    "y_pred = pd.DataFrame(y_pred)\n",
    "y_pred.columns = important_classes + ['indefinida']\n",
    "y_pred = y_pred.idxmax(axis=1)"
   ]
  },
  {
   "cell_type": "code",
   "execution_count": 30,
   "metadata": {},
   "outputs": [
    {
     "data": {
      "image/png": "[encoded data removed]",
      "text/plain": [
       "<Figure size 640x480 with 2 Axes>"
      ]
     },
     "metadata": {},
     "output_type": "display_data"
    },
    {
     "name": "stdout",
     "output_type": "stream",
     "text": [
      "              precision    recall  f1-score   support\n",
      "\n",
      "           3       0.71      0.38      0.50        13\n",
      "           4       0.37      1.00      0.54        13\n",
      "           5       0.26      0.75      0.39        12\n",
      "  indefinida       1.00      0.98      0.99      2406\n",
      "\n",
      "    accuracy                           0.98      2444\n",
      "   macro avg       0.59      0.78      0.61      2444\n",
      "weighted avg       0.99      0.98      0.98      2444\n",
      "\n"
     ]
    }
   ],
   "source": [
    "y_test = np.array(y_test).astype(str)\n",
    "y_pred = y_pred.astype(str)\n",
    "labels = np.array(important_classes + ['indefinida']).astype(str)\n",
    "\n",
    "# Matriz de confusão\n",
    "cf_matrix = confusion_matrix(y_test, y_pred, labels=labels)\n",
    "cm_display = metrics.ConfusionMatrixDisplay(confusion_matrix=cf_matrix, display_labels=labels)\n",
    "cm_display.plot()\n",
    "plt.show()\n",
    "\n",
    "# Relatório de classificação\n",
    "relatorio = classification_report(y_test, y_pred, target_names=['3', '4', '5', 'indefinida'])\n",
    "print(relatorio)"
   ]
  },
  {
   "cell_type": "markdown",
   "metadata": {},
   "source": [
    "Gostaria de fazer algumas observações finais.\n",
    "Primeiramente, tive muita dificuldade de reproduzir esse resultado (na verdade nem sequer conseguimos) devido à parada do kernel. Isso aconteceu, provavelmente devido ao uso da memória. O que me chamou mais atenção foi que o mesmo código foi executado, mesmo com algumas dificuldades (nem sempre o kernel foi colaborativo), há algumas horas atrás. De qualquer modo, a matriz de confusão e o relatório obtidos constituem o nosso reusltado.\n",
    "\n",
    "Os resultados não foram muito ruins, mas também não foram bons. Algumas hipóteses podem nos ajudar a entender e melhorar o resultado obtido:\n",
    "\n",
    "1. **Possível sobreajuste aos dados das classes não majoritárias:** Observe que, durante a aplicação do método ODU, as amostras da classe majoritária mudaram em cada iteração, enquanto que as amostras das classes minoritárias se mantiveram fixas. Isso pode ter levado o modelo a se sobreajustar aos dados das classes não majoritárias, não conseguindo generalizar no conjunto de teste;\n",
    "\n",
    "2. **Alta incerteza não garante diversidade:** As amostras selecionadas pelo ODU não são necessáriamente diversas, ou seja, podemos ter amostras de poucas (ou até uma) classe. Dessa forma, classes pouco frequentes (ou inéditas) ao modelo podem possuir alta incerteza, mas não tanto a ponto de serem selecionadas. Isso pode fazer com que o modelo tenha dificulade ao identificar elementos de tais classes. Uma solução para isso, que foi implementada, mas não executada com sucesso (o kernel não ajudou), seria selecionar as amostras com maior incerteza de cada classe rotulada como 'indefinida'. Em se tratando de aprendizado supervisionado, não estou certo de quanto a falta de diversidade pode ser um problema. No entanto, em outros métodos de seleção de imagens (como active learning), isso pode ser um problema. Um paper que mostra bem isso é o [Active Learning for Single-Stage Object Detection in UAV Images](https://openaccess.thecvf.com/content/WACV2024/papers/Yamani_Active_Learning_for_Single-Stage_Object_Detection_in_UAV_Images_WACV_2024_paper.pdf);\n",
    "\n",
    "3. **Uso de poucas imagens:** Caso recurso computacional estivesse disponível, seria interessante treinar o modelo com um número maior de imagens 'indefinidas', que poderia ser substancialmente maior que N. Poderíamos tratar o desequilibrio de classes (que certamente seria bem menor do que o que temos agora) com uma métrica adequada, e.g. F1-socre (macro). Além disso, aumentar ainda mais o número de imagens das classes não majoritárias via data augmentation também seria uma possibilidade."
   ]
  }
 ],
 "metadata": {
  "kernelspec": {
   "display_name": "Python 3",
   "language": "python",
   "name": "python3"
  },
  "language_info": {
   "codemirror_mode": {
    "name": "ipython",
    "version": 3
   },
   "file_extension": ".py",
   "mimetype": "text/x-python",
   "name": "python",
   "nbconvert_exporter": "python",
   "pygments_lexer": "ipython3",
   "version": "3.10.12"
  }
 },
 "nbformat": 4,
 "nbformat_minor": 2
}
